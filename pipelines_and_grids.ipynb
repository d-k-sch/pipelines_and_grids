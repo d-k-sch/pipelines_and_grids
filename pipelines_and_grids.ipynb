{
 "cells": [
  {
   "cell_type": "markdown",
   "id": "2a233f4d-a801-48b7-ac01-f10a359cd164",
   "metadata": {},
   "source": [
    "# Piepelines and Grid Search Practice:\n",
    "# Finding the Best Pipeline for Malware Classification"
   ]
  },
  {
   "cell_type": "markdown",
   "id": "7034db69-eaea-4035-a144-088709ad2dc1",
   "metadata": {},
   "source": [
    "The dataset I will be working with records permissions for Android apps and their status as malware or benevolent. It can be found at https://archive-beta.ics.uci.edu/api/static/ml/datasets/722/data.csv and was collected to be the basis of a paper on malware classification (Mathur, Akshay, et al. \"NATICUSdroid: A malware detection framework for Android using native and custom permissions.\" Journal of Information Security and Applications 58 (2021): 102696.) The dataset is, unsurprisingly, very well suited and prepared for comparing the performance of different classification models, since that is part of what Akshay et. al. are doing as well. Here this will only happen on a toy scale of course, most importantly, I have tried to keep the runtime of this notebook in check, since grid searches can take a lot of time, especially with sophisticated models, promising candidates are often not included (e.g. GBMs).\n",
    "The plan is to compare pipelines with three different kinds of model, K Nearest Neighbors, Logistic Regression and Random Forest, with scaling and feature selection as data preparation steps. The best parameters for each pipeline will be found through grid search and then the three winners will compete on the test data. "
   ]
  },
  {
   "cell_type": "markdown",
   "id": "31dc725e-7c3d-43d4-9c4b-a10ea780c60c",
   "metadata": {},
   "source": [
    "## Setting Up"
   ]
  },
  {
   "cell_type": "code",
   "execution_count": 2,
   "id": "d0eb4f16-5a99-460d-a5ba-706b7ef0bbe7",
   "metadata": {
    "id": "bA5ajAmk7XH6"
   },
   "outputs": [],
   "source": [
    "import pandas as pd \n",
    "import matplotlib.pyplot as plt\n",
    "import seaborn as sns\n",
    "from sklearn.model_selection import train_test_split \n",
    "from sklearn.preprocessing import StandardScaler\n",
    "from sklearn.linear_model import LogisticRegression\n",
    "from sklearn.feature_selection import SelectKBest\n",
    "from sklearn.feature_selection import f_classif\n",
    "from sklearn.feature_selection import chi2\n",
    "from sklearn.neighbors import KNeighborsClassifier\n",
    "from sklearn.linear_model import LogisticRegression\n",
    "from sklearn.ensemble import RandomForestClassifier\n",
    "from sklearn.model_selection import GridSearchCV\n",
    "from sklearn.pipeline import Pipeline, make_pipeline"
   ]
  },
  {
   "cell_type": "code",
   "execution_count": 3,
   "id": "9c22c7d5-a975-463c-a4fe-34c964983ae1",
   "metadata": {},
   "outputs": [],
   "source": [
    "df = pd.read_csv(\"data.csv\")"
   ]
  },
  {
   "cell_type": "markdown",
   "id": "3bdac159-fe46-42c6-987e-736986fc574f",
   "metadata": {},
   "source": [
    "## A Quick Look at the Dataset"
   ]
  },
  {
   "cell_type": "code",
   "execution_count": null,
   "id": "9c19c995-4a73-462d-a5ec-88dfe93fb230",
   "metadata": {},
   "outputs": [
    {
     "data": {
      "application/com.datacamp.data-table.v1+json": {
       "is_truncated": false,
       "table": {
        "data": [
         {
          "Result": 0,
          "android.permission.ACCESS_COARSE_LOCATION": 0,
          "android.permission.ACCESS_FINE_LOCATION": 0,
          "android.permission.ACCESS_LOCATION_EXTRA_COMMANDS": 0,
          "android.permission.ACCESS_MOCK_LOCATION": 0,
          "android.permission.ACCESS_NETWORK_STATE": 0,
          "android.permission.ACCESS_WIFI_STATE": 0,
          "android.permission.AUTHENTICATE_ACCOUNTS": 0,
          "android.permission.BLUETOOTH": 0,
          "android.permission.BLUETOOTH_ADMIN": 0,
          "android.permission.BROADCAST_STICKY": 0,
          "android.permission.CALL_PHONE": 0,
          "android.permission.CAMERA": 0,
          "android.permission.CHANGE_CONFIGURATION": 0,
          "android.permission.CHANGE_NETWORK_STATE": 0,
          "android.permission.CHANGE_WIFI_STATE": 0,
          "android.permission.CLEAR_APP_CACHE": 0,
          "android.permission.DISABLE_KEYGUARD": 0,
          "android.permission.DOWNLOAD_WITHOUT_NOTIFICATION": 0,
          "android.permission.FLASHLIGHT": 0,
          "android.permission.FOREGROUND_SERVICE": 0,
          "android.permission.GET_ACCOUNTS": 0,
          "android.permission.GET_TASKS": 0,
          "android.permission.INTERNET": 0,
          "android.permission.KILL_BACKGROUND_PROCESSES": 0,
          "android.permission.MANAGE_ACCOUNTS": 0,
          "android.permission.MODIFY_AUDIO_SETTINGS": 0,
          "android.permission.MOUNT_UNMOUNT_FILESYSTEMS": 0,
          "android.permission.NFC": 0,
          "android.permission.PROCESS_INCOMING_CALLS": 0,
          "android.permission.READ_APP_BADGE": 0,
          "android.permission.READ_CALENDAR": 0,
          "android.permission.READ_CONTACTS": 0,
          "android.permission.READ_EXTERNAL_STORAGE": 0,
          "android.permission.READ_LOGS": 0,
          "android.permission.READ_PHONE_STATE": 0,
          "android.permission.READ_PROFILE": 0,
          "android.permission.READ_SMS": 0,
          "android.permission.READ_SYNC_SETTINGS": 0,
          "android.permission.RECEIVE_BOOT_COMPLETED": 0,
          "android.permission.RECEIVE_SMS": 0,
          "android.permission.RECEIVE_USER_PRESENT": 0,
          "android.permission.RECORD_AUDIO": 0,
          "android.permission.REQUEST_INSTALL_PACKAGES": 0,
          "android.permission.RESTART_PACKAGES": 0,
          "android.permission.SEND_SMS": 0,
          "android.permission.SET_WALLPAPER": 0,
          "android.permission.SET_WALLPAPER_HINTS": 0,
          "android.permission.SYSTEM_ALERT_WINDOW": 0,
          "android.permission.USE_CREDENTIALS": 0,
          "android.permission.USE_FINGERPRINT": 0,
          "android.permission.VIBRATE": 0,
          "android.permission.WAKE_LOCK": 0,
          "android.permission.WRITE_CALENDAR": 0,
          "android.permission.WRITE_CONTACTS": 0,
          "android.permission.WRITE_EXTERNAL_STORAGE": 0,
          "android.permission.WRITE_SETTINGS": 0,
          "android.permission.WRITE_SYNC_SETTINGS": 0,
          "android.permission.android.permission.READ_PHONE_STATE": 0,
          "com.amazon.device.messaging.permission.RECEIVE": 0,
          "com.anddoes.launcher.permission.UPDATE_COUNT": 0,
          "com.android.alarm.permission.SET_ALARM": 0,
          "com.android.launcher.permission.INSTALL_SHORTCUT": 0,
          "com.android.launcher.permission.READ_SETTINGS": 0,
          "com.android.launcher.permission.UNINSTALL_SHORTCUT": 0,
          "com.android.vending.BILLING": 0,
          "com.android.vending.CHECK_LICENSE": 0,
          "com.google.android.c2dm.permission.RECEIVE": 0,
          "com.google.android.finsky.permission.BIND_GET_INSTALL_REFERRER_SERVICE": 0,
          "com.google.android.gms.permission.ACTIVITY_RECOGNITION": 0,
          "com.google.android.providers.gsf.permission.READ_GSERVICES": 0,
          "com.htc.launcher.permission.READ_SETTINGS": 0,
          "com.htc.launcher.permission.UPDATE_SHORTCUT": 0,
          "com.huawei.android.launcher.permission.CHANGE_BADGE": 0,
          "com.huawei.android.launcher.permission.READ_SETTINGS": 0,
          "com.huawei.android.launcher.permission.WRITE_SETTINGS": 0,
          "com.majeur.launcher.permission.UPDATE_BADGE": 0,
          "com.oppo.launcher.permission.READ_SETTINGS": 0,
          "com.oppo.launcher.permission.WRITE_SETTINGS": 0,
          "com.samsung.android.providers.context.permission.WRITE_USE_APP_FEATURE_SURVEY": 0,
          "com.sec.android.iap.permission.BILLING": 0,
          "com.sec.android.provider.badge.permission.READ": 0,
          "com.sec.android.provider.badge.permission.WRITE": 0,
          "com.sonyericsson.home.permission.BROADCAST_BADGE": 0,
          "com.sonymobile.home.permission.PROVIDER_INSERT_BADGE": 0,
          "index": 0,
          "me.everything.badger.permission.BADGE_COUNT_READ": 0,
          "me.everything.badger.permission.BADGE_COUNT_WRITE": 0
         },
         {
          "Result": 0,
          "android.permission.ACCESS_COARSE_LOCATION": 0,
          "android.permission.ACCESS_FINE_LOCATION": 0,
          "android.permission.ACCESS_LOCATION_EXTRA_COMMANDS": 0,
          "android.permission.ACCESS_MOCK_LOCATION": 0,
          "android.permission.ACCESS_NETWORK_STATE": 1,
          "android.permission.ACCESS_WIFI_STATE": 0,
          "android.permission.AUTHENTICATE_ACCOUNTS": 0,
          "android.permission.BLUETOOTH": 0,
          "android.permission.BLUETOOTH_ADMIN": 0,
          "android.permission.BROADCAST_STICKY": 0,
          "android.permission.CALL_PHONE": 0,
          "android.permission.CAMERA": 1,
          "android.permission.CHANGE_CONFIGURATION": 0,
          "android.permission.CHANGE_NETWORK_STATE": 0,
          "android.permission.CHANGE_WIFI_STATE": 0,
          "android.permission.CLEAR_APP_CACHE": 0,
          "android.permission.DISABLE_KEYGUARD": 0,
          "android.permission.DOWNLOAD_WITHOUT_NOTIFICATION": 0,
          "android.permission.FLASHLIGHT": 0,
          "android.permission.FOREGROUND_SERVICE": 0,
          "android.permission.GET_ACCOUNTS": 0,
          "android.permission.GET_TASKS": 0,
          "android.permission.INTERNET": 1,
          "android.permission.KILL_BACKGROUND_PROCESSES": 0,
          "android.permission.MANAGE_ACCOUNTS": 0,
          "android.permission.MODIFY_AUDIO_SETTINGS": 0,
          "android.permission.MOUNT_UNMOUNT_FILESYSTEMS": 0,
          "android.permission.NFC": 0,
          "android.permission.PROCESS_INCOMING_CALLS": 0,
          "android.permission.READ_APP_BADGE": 0,
          "android.permission.READ_CALENDAR": 0,
          "android.permission.READ_CONTACTS": 0,
          "android.permission.READ_EXTERNAL_STORAGE": 1,
          "android.permission.READ_LOGS": 0,
          "android.permission.READ_PHONE_STATE": 0,
          "android.permission.READ_PROFILE": 0,
          "android.permission.READ_SMS": 0,
          "android.permission.READ_SYNC_SETTINGS": 0,
          "android.permission.RECEIVE_BOOT_COMPLETED": 0,
          "android.permission.RECEIVE_SMS": 0,
          "android.permission.RECEIVE_USER_PRESENT": 0,
          "android.permission.RECORD_AUDIO": 0,
          "android.permission.REQUEST_INSTALL_PACKAGES": 0,
          "android.permission.RESTART_PACKAGES": 0,
          "android.permission.SEND_SMS": 0,
          "android.permission.SET_WALLPAPER": 0,
          "android.permission.SET_WALLPAPER_HINTS": 0,
          "android.permission.SYSTEM_ALERT_WINDOW": 0,
          "android.permission.USE_CREDENTIALS": 0,
          "android.permission.USE_FINGERPRINT": 0,
          "android.permission.VIBRATE": 0,
          "android.permission.WAKE_LOCK": 1,
          "android.permission.WRITE_CALENDAR": 0,
          "android.permission.WRITE_CONTACTS": 0,
          "android.permission.WRITE_EXTERNAL_STORAGE": 1,
          "android.permission.WRITE_SETTINGS": 0,
          "android.permission.WRITE_SYNC_SETTINGS": 0,
          "android.permission.android.permission.READ_PHONE_STATE": 0,
          "com.amazon.device.messaging.permission.RECEIVE": 0,
          "com.anddoes.launcher.permission.UPDATE_COUNT": 0,
          "com.android.alarm.permission.SET_ALARM": 0,
          "com.android.launcher.permission.INSTALL_SHORTCUT": 0,
          "com.android.launcher.permission.READ_SETTINGS": 0,
          "com.android.launcher.permission.UNINSTALL_SHORTCUT": 0,
          "com.android.vending.BILLING": 0,
          "com.android.vending.CHECK_LICENSE": 0,
          "com.google.android.c2dm.permission.RECEIVE": 1,
          "com.google.android.finsky.permission.BIND_GET_INSTALL_REFERRER_SERVICE": 0,
          "com.google.android.gms.permission.ACTIVITY_RECOGNITION": 0,
          "com.google.android.providers.gsf.permission.READ_GSERVICES": 0,
          "com.htc.launcher.permission.READ_SETTINGS": 0,
          "com.htc.launcher.permission.UPDATE_SHORTCUT": 0,
          "com.huawei.android.launcher.permission.CHANGE_BADGE": 0,
          "com.huawei.android.launcher.permission.READ_SETTINGS": 0,
          "com.huawei.android.launcher.permission.WRITE_SETTINGS": 0,
          "com.majeur.launcher.permission.UPDATE_BADGE": 0,
          "com.oppo.launcher.permission.READ_SETTINGS": 0,
          "com.oppo.launcher.permission.WRITE_SETTINGS": 0,
          "com.samsung.android.providers.context.permission.WRITE_USE_APP_FEATURE_SURVEY": 0,
          "com.sec.android.iap.permission.BILLING": 0,
          "com.sec.android.provider.badge.permission.READ": 0,
          "com.sec.android.provider.badge.permission.WRITE": 0,
          "com.sonyericsson.home.permission.BROADCAST_BADGE": 0,
          "com.sonymobile.home.permission.PROVIDER_INSERT_BADGE": 0,
          "index": 1,
          "me.everything.badger.permission.BADGE_COUNT_READ": 0,
          "me.everything.badger.permission.BADGE_COUNT_WRITE": 0
         },
         {
          "Result": 0,
          "android.permission.ACCESS_COARSE_LOCATION": 0,
          "android.permission.ACCESS_FINE_LOCATION": 0,
          "android.permission.ACCESS_LOCATION_EXTRA_COMMANDS": 0,
          "android.permission.ACCESS_MOCK_LOCATION": 0,
          "android.permission.ACCESS_NETWORK_STATE": 1,
          "android.permission.ACCESS_WIFI_STATE": 0,
          "android.permission.AUTHENTICATE_ACCOUNTS": 0,
          "android.permission.BLUETOOTH": 0,
          "android.permission.BLUETOOTH_ADMIN": 0,
          "android.permission.BROADCAST_STICKY": 0,
          "android.permission.CALL_PHONE": 0,
          "android.permission.CAMERA": 1,
          "android.permission.CHANGE_CONFIGURATION": 0,
          "android.permission.CHANGE_NETWORK_STATE": 0,
          "android.permission.CHANGE_WIFI_STATE": 0,
          "android.permission.CLEAR_APP_CACHE": 0,
          "android.permission.DISABLE_KEYGUARD": 0,
          "android.permission.DOWNLOAD_WITHOUT_NOTIFICATION": 0,
          "android.permission.FLASHLIGHT": 0,
          "android.permission.FOREGROUND_SERVICE": 0,
          "android.permission.GET_ACCOUNTS": 0,
          "android.permission.GET_TASKS": 0,
          "android.permission.INTERNET": 1,
          "android.permission.KILL_BACKGROUND_PROCESSES": 0,
          "android.permission.MANAGE_ACCOUNTS": 0,
          "android.permission.MODIFY_AUDIO_SETTINGS": 0,
          "android.permission.MOUNT_UNMOUNT_FILESYSTEMS": 0,
          "android.permission.NFC": 0,
          "android.permission.PROCESS_INCOMING_CALLS": 0,
          "android.permission.READ_APP_BADGE": 0,
          "android.permission.READ_CALENDAR": 0,
          "android.permission.READ_CONTACTS": 0,
          "android.permission.READ_EXTERNAL_STORAGE": 0,
          "android.permission.READ_LOGS": 0,
          "android.permission.READ_PHONE_STATE": 0,
          "android.permission.READ_PROFILE": 0,
          "android.permission.READ_SMS": 0,
          "android.permission.READ_SYNC_SETTINGS": 0,
          "android.permission.RECEIVE_BOOT_COMPLETED": 0,
          "android.permission.RECEIVE_SMS": 0,
          "android.permission.RECEIVE_USER_PRESENT": 0,
          "android.permission.RECORD_AUDIO": 0,
          "android.permission.REQUEST_INSTALL_PACKAGES": 0,
          "android.permission.RESTART_PACKAGES": 0,
          "android.permission.SEND_SMS": 0,
          "android.permission.SET_WALLPAPER": 0,
          "android.permission.SET_WALLPAPER_HINTS": 0,
          "android.permission.SYSTEM_ALERT_WINDOW": 0,
          "android.permission.USE_CREDENTIALS": 0,
          "android.permission.USE_FINGERPRINT": 0,
          "android.permission.VIBRATE": 0,
          "android.permission.WAKE_LOCK": 1,
          "android.permission.WRITE_CALENDAR": 0,
          "android.permission.WRITE_CONTACTS": 0,
          "android.permission.WRITE_EXTERNAL_STORAGE": 1,
          "android.permission.WRITE_SETTINGS": 0,
          "android.permission.WRITE_SYNC_SETTINGS": 0,
          "android.permission.android.permission.READ_PHONE_STATE": 0,
          "com.amazon.device.messaging.permission.RECEIVE": 0,
          "com.anddoes.launcher.permission.UPDATE_COUNT": 0,
          "com.android.alarm.permission.SET_ALARM": 0,
          "com.android.launcher.permission.INSTALL_SHORTCUT": 0,
          "com.android.launcher.permission.READ_SETTINGS": 0,
          "com.android.launcher.permission.UNINSTALL_SHORTCUT": 0,
          "com.android.vending.BILLING": 0,
          "com.android.vending.CHECK_LICENSE": 0,
          "com.google.android.c2dm.permission.RECEIVE": 1,
          "com.google.android.finsky.permission.BIND_GET_INSTALL_REFERRER_SERVICE": 0,
          "com.google.android.gms.permission.ACTIVITY_RECOGNITION": 0,
          "com.google.android.providers.gsf.permission.READ_GSERVICES": 0,
          "com.htc.launcher.permission.READ_SETTINGS": 0,
          "com.htc.launcher.permission.UPDATE_SHORTCUT": 0,
          "com.huawei.android.launcher.permission.CHANGE_BADGE": 0,
          "com.huawei.android.launcher.permission.READ_SETTINGS": 0,
          "com.huawei.android.launcher.permission.WRITE_SETTINGS": 0,
          "com.majeur.launcher.permission.UPDATE_BADGE": 0,
          "com.oppo.launcher.permission.READ_SETTINGS": 0,
          "com.oppo.launcher.permission.WRITE_SETTINGS": 0,
          "com.samsung.android.providers.context.permission.WRITE_USE_APP_FEATURE_SURVEY": 0,
          "com.sec.android.iap.permission.BILLING": 0,
          "com.sec.android.provider.badge.permission.READ": 0,
          "com.sec.android.provider.badge.permission.WRITE": 0,
          "com.sonyericsson.home.permission.BROADCAST_BADGE": 0,
          "com.sonymobile.home.permission.PROVIDER_INSERT_BADGE": 0,
          "index": 2,
          "me.everything.badger.permission.BADGE_COUNT_READ": 0,
          "me.everything.badger.permission.BADGE_COUNT_WRITE": 0
         },
         {
          "Result": 0,
          "android.permission.ACCESS_COARSE_LOCATION": 0,
          "android.permission.ACCESS_FINE_LOCATION": 0,
          "android.permission.ACCESS_LOCATION_EXTRA_COMMANDS": 0,
          "android.permission.ACCESS_MOCK_LOCATION": 0,
          "android.permission.ACCESS_NETWORK_STATE": 1,
          "android.permission.ACCESS_WIFI_STATE": 0,
          "android.permission.AUTHENTICATE_ACCOUNTS": 0,
          "android.permission.BLUETOOTH": 0,
          "android.permission.BLUETOOTH_ADMIN": 0,
          "android.permission.BROADCAST_STICKY": 0,
          "android.permission.CALL_PHONE": 0,
          "android.permission.CAMERA": 0,
          "android.permission.CHANGE_CONFIGURATION": 0,
          "android.permission.CHANGE_NETWORK_STATE": 0,
          "android.permission.CHANGE_WIFI_STATE": 0,
          "android.permission.CLEAR_APP_CACHE": 0,
          "android.permission.DISABLE_KEYGUARD": 0,
          "android.permission.DOWNLOAD_WITHOUT_NOTIFICATION": 0,
          "android.permission.FLASHLIGHT": 0,
          "android.permission.FOREGROUND_SERVICE": 0,
          "android.permission.GET_ACCOUNTS": 0,
          "android.permission.GET_TASKS": 0,
          "android.permission.INTERNET": 1,
          "android.permission.KILL_BACKGROUND_PROCESSES": 0,
          "android.permission.MANAGE_ACCOUNTS": 0,
          "android.permission.MODIFY_AUDIO_SETTINGS": 0,
          "android.permission.MOUNT_UNMOUNT_FILESYSTEMS": 0,
          "android.permission.NFC": 0,
          "android.permission.PROCESS_INCOMING_CALLS": 0,
          "android.permission.READ_APP_BADGE": 0,
          "android.permission.READ_CALENDAR": 0,
          "android.permission.READ_CONTACTS": 0,
          "android.permission.READ_EXTERNAL_STORAGE": 0,
          "android.permission.READ_LOGS": 0,
          "android.permission.READ_PHONE_STATE": 0,
          "android.permission.READ_PROFILE": 0,
          "android.permission.READ_SMS": 0,
          "android.permission.READ_SYNC_SETTINGS": 0,
          "android.permission.RECEIVE_BOOT_COMPLETED": 0,
          "android.permission.RECEIVE_SMS": 0,
          "android.permission.RECEIVE_USER_PRESENT": 0,
          "android.permission.RECORD_AUDIO": 0,
          "android.permission.REQUEST_INSTALL_PACKAGES": 0,
          "android.permission.RESTART_PACKAGES": 0,
          "android.permission.SEND_SMS": 0,
          "android.permission.SET_WALLPAPER": 0,
          "android.permission.SET_WALLPAPER_HINTS": 0,
          "android.permission.SYSTEM_ALERT_WINDOW": 0,
          "android.permission.USE_CREDENTIALS": 0,
          "android.permission.USE_FINGERPRINT": 0,
          "android.permission.VIBRATE": 0,
          "android.permission.WAKE_LOCK": 0,
          "android.permission.WRITE_CALENDAR": 0,
          "android.permission.WRITE_CONTACTS": 0,
          "android.permission.WRITE_EXTERNAL_STORAGE": 0,
          "android.permission.WRITE_SETTINGS": 0,
          "android.permission.WRITE_SYNC_SETTINGS": 0,
          "android.permission.android.permission.READ_PHONE_STATE": 0,
          "com.amazon.device.messaging.permission.RECEIVE": 0,
          "com.anddoes.launcher.permission.UPDATE_COUNT": 0,
          "com.android.alarm.permission.SET_ALARM": 0,
          "com.android.launcher.permission.INSTALL_SHORTCUT": 0,
          "com.android.launcher.permission.READ_SETTINGS": 0,
          "com.android.launcher.permission.UNINSTALL_SHORTCUT": 0,
          "com.android.vending.BILLING": 0,
          "com.android.vending.CHECK_LICENSE": 0,
          "com.google.android.c2dm.permission.RECEIVE": 1,
          "com.google.android.finsky.permission.BIND_GET_INSTALL_REFERRER_SERVICE": 0,
          "com.google.android.gms.permission.ACTIVITY_RECOGNITION": 0,
          "com.google.android.providers.gsf.permission.READ_GSERVICES": 0,
          "com.htc.launcher.permission.READ_SETTINGS": 0,
          "com.htc.launcher.permission.UPDATE_SHORTCUT": 0,
          "com.huawei.android.launcher.permission.CHANGE_BADGE": 0,
          "com.huawei.android.launcher.permission.READ_SETTINGS": 0,
          "com.huawei.android.launcher.permission.WRITE_SETTINGS": 0,
          "com.majeur.launcher.permission.UPDATE_BADGE": 0,
          "com.oppo.launcher.permission.READ_SETTINGS": 0,
          "com.oppo.launcher.permission.WRITE_SETTINGS": 0,
          "com.samsung.android.providers.context.permission.WRITE_USE_APP_FEATURE_SURVEY": 0,
          "com.sec.android.iap.permission.BILLING": 0,
          "com.sec.android.provider.badge.permission.READ": 0,
          "com.sec.android.provider.badge.permission.WRITE": 0,
          "com.sonyericsson.home.permission.BROADCAST_BADGE": 0,
          "com.sonymobile.home.permission.PROVIDER_INSERT_BADGE": 0,
          "index": 3,
          "me.everything.badger.permission.BADGE_COUNT_READ": 0,
          "me.everything.badger.permission.BADGE_COUNT_WRITE": 0
         },
         {
          "Result": 0,
          "android.permission.ACCESS_COARSE_LOCATION": 0,
          "android.permission.ACCESS_FINE_LOCATION": 0,
          "android.permission.ACCESS_LOCATION_EXTRA_COMMANDS": 0,
          "android.permission.ACCESS_MOCK_LOCATION": 0,
          "android.permission.ACCESS_NETWORK_STATE": 1,
          "android.permission.ACCESS_WIFI_STATE": 0,
          "android.permission.AUTHENTICATE_ACCOUNTS": 0,
          "android.permission.BLUETOOTH": 0,
          "android.permission.BLUETOOTH_ADMIN": 0,
          "android.permission.BROADCAST_STICKY": 0,
          "android.permission.CALL_PHONE": 0,
          "android.permission.CAMERA": 0,
          "android.permission.CHANGE_CONFIGURATION": 0,
          "android.permission.CHANGE_NETWORK_STATE": 0,
          "android.permission.CHANGE_WIFI_STATE": 0,
          "android.permission.CLEAR_APP_CACHE": 0,
          "android.permission.DISABLE_KEYGUARD": 0,
          "android.permission.DOWNLOAD_WITHOUT_NOTIFICATION": 0,
          "android.permission.FLASHLIGHT": 0,
          "android.permission.FOREGROUND_SERVICE": 0,
          "android.permission.GET_ACCOUNTS": 0,
          "android.permission.GET_TASKS": 0,
          "android.permission.INTERNET": 1,
          "android.permission.KILL_BACKGROUND_PROCESSES": 0,
          "android.permission.MANAGE_ACCOUNTS": 0,
          "android.permission.MODIFY_AUDIO_SETTINGS": 0,
          "android.permission.MOUNT_UNMOUNT_FILESYSTEMS": 0,
          "android.permission.NFC": 0,
          "android.permission.PROCESS_INCOMING_CALLS": 0,
          "android.permission.READ_APP_BADGE": 0,
          "android.permission.READ_CALENDAR": 0,
          "android.permission.READ_CONTACTS": 0,
          "android.permission.READ_EXTERNAL_STORAGE": 0,
          "android.permission.READ_LOGS": 0,
          "android.permission.READ_PHONE_STATE": 0,
          "android.permission.READ_PROFILE": 0,
          "android.permission.READ_SMS": 0,
          "android.permission.READ_SYNC_SETTINGS": 0,
          "android.permission.RECEIVE_BOOT_COMPLETED": 0,
          "android.permission.RECEIVE_SMS": 0,
          "android.permission.RECEIVE_USER_PRESENT": 0,
          "android.permission.RECORD_AUDIO": 0,
          "android.permission.REQUEST_INSTALL_PACKAGES": 0,
          "android.permission.RESTART_PACKAGES": 0,
          "android.permission.SEND_SMS": 0,
          "android.permission.SET_WALLPAPER": 0,
          "android.permission.SET_WALLPAPER_HINTS": 0,
          "android.permission.SYSTEM_ALERT_WINDOW": 0,
          "android.permission.USE_CREDENTIALS": 0,
          "android.permission.USE_FINGERPRINT": 0,
          "android.permission.VIBRATE": 1,
          "android.permission.WAKE_LOCK": 1,
          "android.permission.WRITE_CALENDAR": 0,
          "android.permission.WRITE_CONTACTS": 0,
          "android.permission.WRITE_EXTERNAL_STORAGE": 0,
          "android.permission.WRITE_SETTINGS": 0,
          "android.permission.WRITE_SYNC_SETTINGS": 0,
          "android.permission.android.permission.READ_PHONE_STATE": 0,
          "com.amazon.device.messaging.permission.RECEIVE": 0,
          "com.anddoes.launcher.permission.UPDATE_COUNT": 0,
          "com.android.alarm.permission.SET_ALARM": 0,
          "com.android.launcher.permission.INSTALL_SHORTCUT": 0,
          "com.android.launcher.permission.READ_SETTINGS": 0,
          "com.android.launcher.permission.UNINSTALL_SHORTCUT": 0,
          "com.android.vending.BILLING": 1,
          "com.android.vending.CHECK_LICENSE": 0,
          "com.google.android.c2dm.permission.RECEIVE": 0,
          "com.google.android.finsky.permission.BIND_GET_INSTALL_REFERRER_SERVICE": 1,
          "com.google.android.gms.permission.ACTIVITY_RECOGNITION": 0,
          "com.google.android.providers.gsf.permission.READ_GSERVICES": 0,
          "com.htc.launcher.permission.READ_SETTINGS": 0,
          "com.htc.launcher.permission.UPDATE_SHORTCUT": 0,
          "com.huawei.android.launcher.permission.CHANGE_BADGE": 0,
          "com.huawei.android.launcher.permission.READ_SETTINGS": 0,
          "com.huawei.android.launcher.permission.WRITE_SETTINGS": 0,
          "com.majeur.launcher.permission.UPDATE_BADGE": 0,
          "com.oppo.launcher.permission.READ_SETTINGS": 0,
          "com.oppo.launcher.permission.WRITE_SETTINGS": 0,
          "com.samsung.android.providers.context.permission.WRITE_USE_APP_FEATURE_SURVEY": 0,
          "com.sec.android.iap.permission.BILLING": 0,
          "com.sec.android.provider.badge.permission.READ": 0,
          "com.sec.android.provider.badge.permission.WRITE": 0,
          "com.sonyericsson.home.permission.BROADCAST_BADGE": 0,
          "com.sonymobile.home.permission.PROVIDER_INSERT_BADGE": 0,
          "index": 4,
          "me.everything.badger.permission.BADGE_COUNT_READ": 0,
          "me.everything.badger.permission.BADGE_COUNT_WRITE": 0
         }
        ],
        "schema": {
         "fields": [
          {
           "name": "index",
           "type": "integer"
          },
          {
           "name": "android.permission.GET_ACCOUNTS",
           "type": "integer"
          },
          {
           "name": "com.sonyericsson.home.permission.BROADCAST_BADGE",
           "type": "integer"
          },
          {
           "name": "android.permission.READ_PROFILE",
           "type": "integer"
          },
          {
           "name": "android.permission.MANAGE_ACCOUNTS",
           "type": "integer"
          },
          {
           "name": "android.permission.WRITE_SYNC_SETTINGS",
           "type": "integer"
          },
          {
           "name": "android.permission.READ_EXTERNAL_STORAGE",
           "type": "integer"
          },
          {
           "name": "android.permission.RECEIVE_SMS",
           "type": "integer"
          },
          {
           "name": "com.android.launcher.permission.READ_SETTINGS",
           "type": "integer"
          },
          {
           "name": "android.permission.WRITE_SETTINGS",
           "type": "integer"
          },
          {
           "name": "com.google.android.providers.gsf.permission.READ_GSERVICES",
           "type": "integer"
          },
          {
           "name": "android.permission.DOWNLOAD_WITHOUT_NOTIFICATION",
           "type": "integer"
          },
          {
           "name": "android.permission.GET_TASKS",
           "type": "integer"
          },
          {
           "name": "android.permission.WRITE_EXTERNAL_STORAGE",
           "type": "integer"
          },
          {
           "name": "android.permission.RECORD_AUDIO",
           "type": "integer"
          },
          {
           "name": "com.huawei.android.launcher.permission.CHANGE_BADGE",
           "type": "integer"
          },
          {
           "name": "com.oppo.launcher.permission.READ_SETTINGS",
           "type": "integer"
          },
          {
           "name": "android.permission.CHANGE_NETWORK_STATE",
           "type": "integer"
          },
          {
           "name": "com.android.launcher.permission.INSTALL_SHORTCUT",
           "type": "integer"
          },
          {
           "name": "android.permission.android.permission.READ_PHONE_STATE",
           "type": "integer"
          },
          {
           "name": "android.permission.CALL_PHONE",
           "type": "integer"
          },
          {
           "name": "android.permission.WRITE_CONTACTS",
           "type": "integer"
          },
          {
           "name": "android.permission.READ_PHONE_STATE",
           "type": "integer"
          },
          {
           "name": "com.samsung.android.providers.context.permission.WRITE_USE_APP_FEATURE_SURVEY",
           "type": "integer"
          },
          {
           "name": "android.permission.MODIFY_AUDIO_SETTINGS",
           "type": "integer"
          },
          {
           "name": "android.permission.ACCESS_LOCATION_EXTRA_COMMANDS",
           "type": "integer"
          },
          {
           "name": "android.permission.INTERNET",
           "type": "integer"
          },
          {
           "name": "android.permission.MOUNT_UNMOUNT_FILESYSTEMS",
           "type": "integer"
          },
          {
           "name": "com.majeur.launcher.permission.UPDATE_BADGE",
           "type": "integer"
          },
          {
           "name": "android.permission.AUTHENTICATE_ACCOUNTS",
           "type": "integer"
          },
          {
           "name": "com.htc.launcher.permission.READ_SETTINGS",
           "type": "integer"
          },
          {
           "name": "android.permission.ACCESS_WIFI_STATE",
           "type": "integer"
          },
          {
           "name": "android.permission.FLASHLIGHT",
           "type": "integer"
          },
          {
           "name": "android.permission.READ_APP_BADGE",
           "type": "integer"
          },
          {
           "name": "android.permission.USE_CREDENTIALS",
           "type": "integer"
          },
          {
           "name": "android.permission.CHANGE_CONFIGURATION",
           "type": "integer"
          },
          {
           "name": "android.permission.READ_SYNC_SETTINGS",
           "type": "integer"
          },
          {
           "name": "android.permission.BROADCAST_STICKY",
           "type": "integer"
          },
          {
           "name": "com.anddoes.launcher.permission.UPDATE_COUNT",
           "type": "integer"
          },
          {
           "name": "com.android.alarm.permission.SET_ALARM",
           "type": "integer"
          },
          {
           "name": "com.google.android.c2dm.permission.RECEIVE",
           "type": "integer"
          },
          {
           "name": "android.permission.KILL_BACKGROUND_PROCESSES",
           "type": "integer"
          },
          {
           "name": "com.sonymobile.home.permission.PROVIDER_INSERT_BADGE",
           "type": "integer"
          },
          {
           "name": "com.sec.android.provider.badge.permission.READ",
           "type": "integer"
          },
          {
           "name": "android.permission.WRITE_CALENDAR",
           "type": "integer"
          },
          {
           "name": "android.permission.SEND_SMS",
           "type": "integer"
          },
          {
           "name": "com.huawei.android.launcher.permission.WRITE_SETTINGS",
           "type": "integer"
          },
          {
           "name": "android.permission.REQUEST_INSTALL_PACKAGES",
           "type": "integer"
          },
          {
           "name": "android.permission.SET_WALLPAPER_HINTS",
           "type": "integer"
          },
          {
           "name": "android.permission.SET_WALLPAPER",
           "type": "integer"
          },
          {
           "name": "com.oppo.launcher.permission.WRITE_SETTINGS",
           "type": "integer"
          },
          {
           "name": "android.permission.RESTART_PACKAGES",
           "type": "integer"
          },
          {
           "name": "me.everything.badger.permission.BADGE_COUNT_WRITE",
           "type": "integer"
          },
          {
           "name": "android.permission.ACCESS_MOCK_LOCATION",
           "type": "integer"
          },
          {
           "name": "android.permission.ACCESS_COARSE_LOCATION",
           "type": "integer"
          },
          {
           "name": "android.permission.READ_LOGS",
           "type": "integer"
          },
          {
           "name": "com.google.android.gms.permission.ACTIVITY_RECOGNITION",
           "type": "integer"
          },
          {
           "name": "com.amazon.device.messaging.permission.RECEIVE",
           "type": "integer"
          },
          {
           "name": "android.permission.SYSTEM_ALERT_WINDOW",
           "type": "integer"
          },
          {
           "name": "android.permission.DISABLE_KEYGUARD",
           "type": "integer"
          },
          {
           "name": "android.permission.USE_FINGERPRINT",
           "type": "integer"
          },
          {
           "name": "me.everything.badger.permission.BADGE_COUNT_READ",
           "type": "integer"
          },
          {
           "name": "android.permission.CHANGE_WIFI_STATE",
           "type": "integer"
          },
          {
           "name": "android.permission.READ_CONTACTS",
           "type": "integer"
          },
          {
           "name": "com.android.vending.BILLING",
           "type": "integer"
          },
          {
           "name": "android.permission.READ_CALENDAR",
           "type": "integer"
          },
          {
           "name": "android.permission.RECEIVE_BOOT_COMPLETED",
           "type": "integer"
          },
          {
           "name": "android.permission.WAKE_LOCK",
           "type": "integer"
          },
          {
           "name": "android.permission.ACCESS_FINE_LOCATION",
           "type": "integer"
          },
          {
           "name": "android.permission.BLUETOOTH",
           "type": "integer"
          },
          {
           "name": "android.permission.CAMERA",
           "type": "integer"
          },
          {
           "name": "com.android.vending.CHECK_LICENSE",
           "type": "integer"
          },
          {
           "name": "android.permission.FOREGROUND_SERVICE",
           "type": "integer"
          },
          {
           "name": "android.permission.BLUETOOTH_ADMIN",
           "type": "integer"
          },
          {
           "name": "android.permission.VIBRATE",
           "type": "integer"
          },
          {
           "name": "android.permission.NFC",
           "type": "integer"
          },
          {
           "name": "android.permission.RECEIVE_USER_PRESENT",
           "type": "integer"
          },
          {
           "name": "android.permission.CLEAR_APP_CACHE",
           "type": "integer"
          },
          {
           "name": "com.android.launcher.permission.UNINSTALL_SHORTCUT",
           "type": "integer"
          },
          {
           "name": "com.sec.android.iap.permission.BILLING",
           "type": "integer"
          },
          {
           "name": "com.htc.launcher.permission.UPDATE_SHORTCUT",
           "type": "integer"
          },
          {
           "name": "com.sec.android.provider.badge.permission.WRITE",
           "type": "integer"
          },
          {
           "name": "android.permission.ACCESS_NETWORK_STATE",
           "type": "integer"
          },
          {
           "name": "com.google.android.finsky.permission.BIND_GET_INSTALL_REFERRER_SERVICE",
           "type": "integer"
          },
          {
           "name": "com.huawei.android.launcher.permission.READ_SETTINGS",
           "type": "integer"
          },
          {
           "name": "android.permission.READ_SMS",
           "type": "integer"
          },
          {
           "name": "android.permission.PROCESS_INCOMING_CALLS",
           "type": "integer"
          },
          {
           "name": "Result",
           "type": "integer"
          }
         ],
         "pandas_version": "0.20.0",
         "primaryKey": [
          "index"
         ]
        }
       },
       "total_rows": 5
      },
      "text/html": [
       "<div>\n",
       "<style scoped>\n",
       "    .dataframe tbody tr th:only-of-type {\n",
       "        vertical-align: middle;\n",
       "    }\n",
       "\n",
       "    .dataframe tbody tr th {\n",
       "        vertical-align: top;\n",
       "    }\n",
       "\n",
       "    .dataframe thead th {\n",
       "        text-align: right;\n",
       "    }\n",
       "</style>\n",
       "<table border=\"1\" class=\"dataframe\">\n",
       "  <thead>\n",
       "    <tr style=\"text-align: right;\">\n",
       "      <th></th>\n",
       "      <th>android.permission.GET_ACCOUNTS</th>\n",
       "      <th>com.sonyericsson.home.permission.BROADCAST_BADGE</th>\n",
       "      <th>android.permission.READ_PROFILE</th>\n",
       "      <th>android.permission.MANAGE_ACCOUNTS</th>\n",
       "      <th>android.permission.WRITE_SYNC_SETTINGS</th>\n",
       "      <th>android.permission.READ_EXTERNAL_STORAGE</th>\n",
       "      <th>android.permission.RECEIVE_SMS</th>\n",
       "      <th>com.android.launcher.permission.READ_SETTINGS</th>\n",
       "      <th>android.permission.WRITE_SETTINGS</th>\n",
       "      <th>com.google.android.providers.gsf.permission.READ_GSERVICES</th>\n",
       "      <th>...</th>\n",
       "      <th>com.android.launcher.permission.UNINSTALL_SHORTCUT</th>\n",
       "      <th>com.sec.android.iap.permission.BILLING</th>\n",
       "      <th>com.htc.launcher.permission.UPDATE_SHORTCUT</th>\n",
       "      <th>com.sec.android.provider.badge.permission.WRITE</th>\n",
       "      <th>android.permission.ACCESS_NETWORK_STATE</th>\n",
       "      <th>com.google.android.finsky.permission.BIND_GET_INSTALL_REFERRER_SERVICE</th>\n",
       "      <th>com.huawei.android.launcher.permission.READ_SETTINGS</th>\n",
       "      <th>android.permission.READ_SMS</th>\n",
       "      <th>android.permission.PROCESS_INCOMING_CALLS</th>\n",
       "      <th>Result</th>\n",
       "    </tr>\n",
       "  </thead>\n",
       "  <tbody>\n",
       "    <tr>\n",
       "      <th>0</th>\n",
       "      <td>0</td>\n",
       "      <td>0</td>\n",
       "      <td>0</td>\n",
       "      <td>0</td>\n",
       "      <td>0</td>\n",
       "      <td>0</td>\n",
       "      <td>0</td>\n",
       "      <td>0</td>\n",
       "      <td>0</td>\n",
       "      <td>0</td>\n",
       "      <td>...</td>\n",
       "      <td>0</td>\n",
       "      <td>0</td>\n",
       "      <td>0</td>\n",
       "      <td>0</td>\n",
       "      <td>0</td>\n",
       "      <td>0</td>\n",
       "      <td>0</td>\n",
       "      <td>0</td>\n",
       "      <td>0</td>\n",
       "      <td>0</td>\n",
       "    </tr>\n",
       "    <tr>\n",
       "      <th>1</th>\n",
       "      <td>0</td>\n",
       "      <td>0</td>\n",
       "      <td>0</td>\n",
       "      <td>0</td>\n",
       "      <td>0</td>\n",
       "      <td>1</td>\n",
       "      <td>0</td>\n",
       "      <td>0</td>\n",
       "      <td>0</td>\n",
       "      <td>0</td>\n",
       "      <td>...</td>\n",
       "      <td>0</td>\n",
       "      <td>0</td>\n",
       "      <td>0</td>\n",
       "      <td>0</td>\n",
       "      <td>1</td>\n",
       "      <td>0</td>\n",
       "      <td>0</td>\n",
       "      <td>0</td>\n",
       "      <td>0</td>\n",
       "      <td>0</td>\n",
       "    </tr>\n",
       "    <tr>\n",
       "      <th>2</th>\n",
       "      <td>0</td>\n",
       "      <td>0</td>\n",
       "      <td>0</td>\n",
       "      <td>0</td>\n",
       "      <td>0</td>\n",
       "      <td>0</td>\n",
       "      <td>0</td>\n",
       "      <td>0</td>\n",
       "      <td>0</td>\n",
       "      <td>0</td>\n",
       "      <td>...</td>\n",
       "      <td>0</td>\n",
       "      <td>0</td>\n",
       "      <td>0</td>\n",
       "      <td>0</td>\n",
       "      <td>1</td>\n",
       "      <td>0</td>\n",
       "      <td>0</td>\n",
       "      <td>0</td>\n",
       "      <td>0</td>\n",
       "      <td>0</td>\n",
       "    </tr>\n",
       "    <tr>\n",
       "      <th>3</th>\n",
       "      <td>0</td>\n",
       "      <td>0</td>\n",
       "      <td>0</td>\n",
       "      <td>0</td>\n",
       "      <td>0</td>\n",
       "      <td>0</td>\n",
       "      <td>0</td>\n",
       "      <td>0</td>\n",
       "      <td>0</td>\n",
       "      <td>0</td>\n",
       "      <td>...</td>\n",
       "      <td>0</td>\n",
       "      <td>0</td>\n",
       "      <td>0</td>\n",
       "      <td>0</td>\n",
       "      <td>1</td>\n",
       "      <td>0</td>\n",
       "      <td>0</td>\n",
       "      <td>0</td>\n",
       "      <td>0</td>\n",
       "      <td>0</td>\n",
       "    </tr>\n",
       "    <tr>\n",
       "      <th>4</th>\n",
       "      <td>0</td>\n",
       "      <td>0</td>\n",
       "      <td>0</td>\n",
       "      <td>0</td>\n",
       "      <td>0</td>\n",
       "      <td>0</td>\n",
       "      <td>0</td>\n",
       "      <td>0</td>\n",
       "      <td>0</td>\n",
       "      <td>0</td>\n",
       "      <td>...</td>\n",
       "      <td>0</td>\n",
       "      <td>0</td>\n",
       "      <td>0</td>\n",
       "      <td>0</td>\n",
       "      <td>1</td>\n",
       "      <td>1</td>\n",
       "      <td>0</td>\n",
       "      <td>0</td>\n",
       "      <td>0</td>\n",
       "      <td>0</td>\n",
       "    </tr>\n",
       "  </tbody>\n",
       "</table>\n",
       "<p>5 rows × 87 columns</p>\n",
       "</div>"
      ],
      "text/plain": [
       "   android.permission.GET_ACCOUNTS  \\\n",
       "0                                0   \n",
       "1                                0   \n",
       "2                                0   \n",
       "3                                0   \n",
       "4                                0   \n",
       "\n",
       "   com.sonyericsson.home.permission.BROADCAST_BADGE  \\\n",
       "0                                                 0   \n",
       "1                                                 0   \n",
       "2                                                 0   \n",
       "3                                                 0   \n",
       "4                                                 0   \n",
       "\n",
       "   android.permission.READ_PROFILE  android.permission.MANAGE_ACCOUNTS  \\\n",
       "0                                0                                   0   \n",
       "1                                0                                   0   \n",
       "2                                0                                   0   \n",
       "3                                0                                   0   \n",
       "4                                0                                   0   \n",
       "\n",
       "   android.permission.WRITE_SYNC_SETTINGS  \\\n",
       "0                                       0   \n",
       "1                                       0   \n",
       "2                                       0   \n",
       "3                                       0   \n",
       "4                                       0   \n",
       "\n",
       "   android.permission.READ_EXTERNAL_STORAGE  android.permission.RECEIVE_SMS  \\\n",
       "0                                         0                               0   \n",
       "1                                         1                               0   \n",
       "2                                         0                               0   \n",
       "3                                         0                               0   \n",
       "4                                         0                               0   \n",
       "\n",
       "   com.android.launcher.permission.READ_SETTINGS  \\\n",
       "0                                              0   \n",
       "1                                              0   \n",
       "2                                              0   \n",
       "3                                              0   \n",
       "4                                              0   \n",
       "\n",
       "   android.permission.WRITE_SETTINGS  \\\n",
       "0                                  0   \n",
       "1                                  0   \n",
       "2                                  0   \n",
       "3                                  0   \n",
       "4                                  0   \n",
       "\n",
       "   com.google.android.providers.gsf.permission.READ_GSERVICES  ...  \\\n",
       "0                                                  0           ...   \n",
       "1                                                  0           ...   \n",
       "2                                                  0           ...   \n",
       "3                                                  0           ...   \n",
       "4                                                  0           ...   \n",
       "\n",
       "   com.android.launcher.permission.UNINSTALL_SHORTCUT  \\\n",
       "0                                                  0    \n",
       "1                                                  0    \n",
       "2                                                  0    \n",
       "3                                                  0    \n",
       "4                                                  0    \n",
       "\n",
       "   com.sec.android.iap.permission.BILLING  \\\n",
       "0                                       0   \n",
       "1                                       0   \n",
       "2                                       0   \n",
       "3                                       0   \n",
       "4                                       0   \n",
       "\n",
       "   com.htc.launcher.permission.UPDATE_SHORTCUT  \\\n",
       "0                                            0   \n",
       "1                                            0   \n",
       "2                                            0   \n",
       "3                                            0   \n",
       "4                                            0   \n",
       "\n",
       "   com.sec.android.provider.badge.permission.WRITE  \\\n",
       "0                                                0   \n",
       "1                                                0   \n",
       "2                                                0   \n",
       "3                                                0   \n",
       "4                                                0   \n",
       "\n",
       "   android.permission.ACCESS_NETWORK_STATE  \\\n",
       "0                                        0   \n",
       "1                                        1   \n",
       "2                                        1   \n",
       "3                                        1   \n",
       "4                                        1   \n",
       "\n",
       "   com.google.android.finsky.permission.BIND_GET_INSTALL_REFERRER_SERVICE  \\\n",
       "0                                                  0                        \n",
       "1                                                  0                        \n",
       "2                                                  0                        \n",
       "3                                                  0                        \n",
       "4                                                  1                        \n",
       "\n",
       "   com.huawei.android.launcher.permission.READ_SETTINGS  \\\n",
       "0                                                  0      \n",
       "1                                                  0      \n",
       "2                                                  0      \n",
       "3                                                  0      \n",
       "4                                                  0      \n",
       "\n",
       "   android.permission.READ_SMS  android.permission.PROCESS_INCOMING_CALLS  \\\n",
       "0                            0                                          0   \n",
       "1                            0                                          0   \n",
       "2                            0                                          0   \n",
       "3                            0                                          0   \n",
       "4                            0                                          0   \n",
       "\n",
       "   Result  \n",
       "0       0  \n",
       "1       0  \n",
       "2       0  \n",
       "3       0  \n",
       "4       0  \n",
       "\n",
       "[5 rows x 87 columns]"
      ]
     },
     "execution_count": 93,
     "metadata": {},
     "output_type": "execute_result"
    }
   ],
   "source": [
    "df.head()"
   ]
  },
  {
   "cell_type": "markdown",
   "id": "995d495d-f8be-4c29-9895-ca91ba5f47d2",
   "metadata": {},
   "source": [
    "The data is all binary, with 86 columns representing different Andriod app permissions and one \"Result\" column that tells us whether the app represented by the row is malware or not. "
   ]
  },
  {
   "cell_type": "code",
   "execution_count": null,
   "id": "e4d4961c-3c04-4a25-9791-c821510e7739",
   "metadata": {},
   "outputs": [
    {
     "data": {
      "text/plain": [
       "(29332, 87)"
      ]
     },
     "execution_count": 3,
     "metadata": {},
     "output_type": "execute_result"
    }
   ],
   "source": [
    "df.shape"
   ]
  },
  {
   "cell_type": "markdown",
   "id": "595cf022-ee02-4a49-97be-daeac7e3a387",
   "metadata": {},
   "source": [
    "There are almost 30000 apps in the dataset.\n",
    "I deleted the info() call to check for null values here (those 87 columns make for a long printout), there aren't any. "
   ]
  },
  {
   "cell_type": "code",
   "execution_count": null,
   "id": "60089681-d9fe-42a6-8e75-9d12067a8e66",
   "metadata": {},
   "outputs": [
    {
     "data": {
      "text/plain": [
       "0.5011591435974363"
      ]
     },
     "execution_count": 102,
     "metadata": {},
     "output_type": "execute_result"
    }
   ],
   "source": [
    "df.Result.mean()"
   ]
  },
  {
   "cell_type": "markdown",
   "id": "66b5e578-627b-4a2b-883a-3a67dd601b16",
   "metadata": {},
   "source": [
    "About half of the apps in the dataset are malware."
   ]
  },
  {
   "cell_type": "code",
   "execution_count": null,
   "id": "c1e84e45-d92c-433d-bed7-5229a25a5c26",
   "metadata": {},
   "outputs": [
    {
     "data": {
      "text/plain": [
       "android.permission.android.permission.READ_PHONE_STATE    0.003614\n",
       "android.permission.PROCESS_INCOMING_CALLS                 0.003648\n",
       "android.permission.FOREGROUND_SERVICE                     0.003887\n",
       "com.sec.android.iap.permission.BILLING                    0.003887\n",
       "com.amazon.device.messaging.permission.RECEIVE            0.003921\n",
       "                                                            ...   \n",
       "android.permission.ACCESS_WIFI_STATE                      0.525058\n",
       "android.permission.READ_PHONE_STATE                       0.587379\n",
       "android.permission.WRITE_EXTERNAL_STORAGE                 0.669201\n",
       "android.permission.ACCESS_NETWORK_STATE                   0.949032\n",
       "android.permission.INTERNET                               0.975317\n",
       "Length: 87, dtype: float64"
      ]
     },
     "execution_count": 95,
     "metadata": {},
     "output_type": "execute_result"
    }
   ],
   "source": [
    "df.mean().sort_values()"
   ]
  },
  {
   "cell_type": "markdown",
   "id": "d7aa5dd7-6ab4-4262-b113-7b1ec8846007",
   "metadata": {},
   "source": [
    "Here we can see the proportion of apps that request certain permissions, some are extremely widespread - over 97% of apps want internet - some are as rare as 0.3%. There aren't many permissions that are overwhelmingly popular, by the fourth most common one we are already under 60%."
   ]
  },
  {
   "cell_type": "code",
   "execution_count": null,
   "id": "fbe1951d-c83d-465e-bf8e-f8958073d217",
   "metadata": {},
   "outputs": [
    {
     "data": {
      "image/png": "[encoded data removed]",
      "text/plain": [
       "<Figure size 360x360 with 1 Axes>"
      ]
     },
     "metadata": {
      "needs_background": "light"
     },
     "output_type": "display_data"
    }
   ],
   "source": [
    "sns.displot(df.mean())\n",
    "plt.title(\"Popularity of Permissions\")\n",
    "plt.ylabel(\"Count of Permissions\")\n",
    "plt.xlabel(\"Proportion of Apps with Permission\")\n",
    "plt.show()"
   ]
  },
  {
   "cell_type": "markdown",
   "id": "898c459a-d289-47da-b91d-8aefbf9570fd",
   "metadata": {},
   "source": [
    "In fact, most permissions are quite unpopular, over half are present in less than 5% of apps."
   ]
  },
  {
   "cell_type": "code",
   "execution_count": null,
   "id": "e90d125f-3bb3-4d8c-b77b-6220c58fbc2b",
   "metadata": {},
   "outputs": [
    {
     "data": {
      "text/plain": [
       "0         0\n",
       "10086     0\n",
       "12762     0\n",
       "4290      0\n",
       "15484     0\n",
       "         ..\n",
       "2029     55\n",
       "11212    56\n",
       "4507     56\n",
       "12460    56\n",
       "13110    65\n",
       "Length: 29332, dtype: int64"
      ]
     },
     "execution_count": 103,
     "metadata": {},
     "output_type": "execute_result"
    }
   ],
   "source": [
    "df.iloc[:, :-1].sum(axis=1).sort_values()"
   ]
  },
  {
   "cell_type": "markdown",
   "id": "d05f25a7-f3a0-426a-b381-24420f7b7339",
   "metadata": {},
   "source": [
    "Here we can see how many permissions each app contains, 65 being the highest number, interestingly, sometimes the number is 0. This is due to the methods employed in collecting the dataset, permissions present in fewer than 100 apps were excluded, leading to some apps with only rare permissions to have none left.\n",
    "Let's have a look at the difference between malware and benevolent apps. "
   ]
  },
  {
   "cell_type": "code",
   "execution_count": null,
   "id": "fae25a96-a03e-4e46-84b2-9303fc8ac04a",
   "metadata": {},
   "outputs": [
    {
     "data": {
      "image/png": "[encoded data removed]",
      "text/plain": [
       "<Figure size 432x288 with 1 Axes>"
      ]
     },
     "metadata": {
      "needs_background": "light"
     },
     "output_type": "display_data"
    }
   ],
   "source": [
    "plt.hist(df[df.Result == 0].sum(axis=1), alpha=0.5, bins=65, label=\"Benevolent\")\n",
    "plt.hist(df[df.Result == 1].sum(axis=1).apply(lambda x: x - 1), alpha=0.5, bins=65, label=\"Malware\")\n",
    "plt.title(\"Distribution of Number of Permissions by Malware Status\")\n",
    "plt.xlabel(\"Number of Permissions\")\n",
    "plt.ylabel(\"Number of Apps\")\n",
    "plt.legend()\n",
    "plt.show()"
   ]
  },
  {
   "cell_type": "markdown",
   "id": "8196ac1f-2142-4a09-838f-12993d8feb92",
   "metadata": {},
   "source": [
    "Unsurprisingly, malware tends to request more permissions.\n",
    "But what about specific permission?"
   ]
  },
  {
   "cell_type": "code",
   "execution_count": null,
   "id": "0381c8df-b47b-4603-bceb-7fb49309bc38",
   "metadata": {},
   "outputs": [
    {
     "data": {
      "application/com.datacamp.data-table.v1+json": {
       "is_truncated": false,
       "table": {
        "data": [
         {
          "0": 0.2299753964,
          "1": 0.9431292517,
          "difference": 0.7131538553,
          "index": "android.permission.READ_PHONE_STATE"
         },
         {
          "0": 0.2059185347,
          "1": 0.7026530612,
          "difference": 0.4967345265,
          "index": "android.permission.RECEIVE_BOOT_COMPLETED"
         },
         {
          "0": 0.2483597594,
          "1": 0.6784353741,
          "difference": 0.4300756147,
          "index": "android.permission.ACCESS_COARSE_LOCATION"
         },
         {
          "0": 0.2420721706,
          "1": 0.6480272109,
          "difference": 0.4059550403,
          "index": "android.permission.ACCESS_FINE_LOCATION"
         },
         {
          "0": 0.4117003827,
          "1": 0.0140816327,
          "difference": 0.3976187501,
          "index": "com.google.android.c2dm.permission.RECEIVE"
         },
         {
          "0": 0.0286358666,
          "1": 0.3988435374,
          "difference": 0.3702076708,
          "index": "com.android.launcher.permission.INSTALL_SHORTCUT"
         },
         {
          "0": 0.0686167305,
          "1": 0.3976870748,
          "difference": 0.3290703444,
          "index": "android.permission.GET_TASKS"
         },
         {
          "0": 0.058570257,
          "1": 0.3147619048,
          "difference": 0.2561916478,
          "index": "android.permission.SYSTEM_ALERT_WINDOW"
         },
         {
          "0": 0.4199699289,
          "1": 0.6296598639,
          "difference": 0.209689935,
          "index": "android.permission.ACCESS_WIFI_STATE"
         },
         {
          "0": 0.2192454893,
          "1": 0.0463945578,
          "difference": 0.1728509315,
          "index": "com.android.vending.BILLING"
         }
        ],
        "schema": {
         "fields": [
          {
           "name": "index",
           "type": "string"
          },
          {
           "name": 0,
           "type": "number"
          },
          {
           "name": 1,
           "type": "number"
          },
          {
           "name": "difference",
           "type": "number"
          }
         ],
         "pandas_version": "0.20.0",
         "primaryKey": [
          "index"
         ]
        }
       },
       "total_rows": 10
      },
      "text/html": [
       "<div>\n",
       "<style scoped>\n",
       "    .dataframe tbody tr th:only-of-type {\n",
       "        vertical-align: middle;\n",
       "    }\n",
       "\n",
       "    .dataframe tbody tr th {\n",
       "        vertical-align: top;\n",
       "    }\n",
       "\n",
       "    .dataframe thead th {\n",
       "        text-align: right;\n",
       "    }\n",
       "</style>\n",
       "<table border=\"1\" class=\"dataframe\">\n",
       "  <thead>\n",
       "    <tr style=\"text-align: right;\">\n",
       "      <th>Result</th>\n",
       "      <th>0</th>\n",
       "      <th>1</th>\n",
       "      <th>difference</th>\n",
       "    </tr>\n",
       "  </thead>\n",
       "  <tbody>\n",
       "    <tr>\n",
       "      <th>android.permission.READ_PHONE_STATE</th>\n",
       "      <td>0.229975</td>\n",
       "      <td>0.943129</td>\n",
       "      <td>0.713154</td>\n",
       "    </tr>\n",
       "    <tr>\n",
       "      <th>android.permission.RECEIVE_BOOT_COMPLETED</th>\n",
       "      <td>0.205919</td>\n",
       "      <td>0.702653</td>\n",
       "      <td>0.496735</td>\n",
       "    </tr>\n",
       "    <tr>\n",
       "      <th>android.permission.ACCESS_COARSE_LOCATION</th>\n",
       "      <td>0.248360</td>\n",
       "      <td>0.678435</td>\n",
       "      <td>0.430076</td>\n",
       "    </tr>\n",
       "    <tr>\n",
       "      <th>android.permission.ACCESS_FINE_LOCATION</th>\n",
       "      <td>0.242072</td>\n",
       "      <td>0.648027</td>\n",
       "      <td>0.405955</td>\n",
       "    </tr>\n",
       "    <tr>\n",
       "      <th>com.google.android.c2dm.permission.RECEIVE</th>\n",
       "      <td>0.411700</td>\n",
       "      <td>0.014082</td>\n",
       "      <td>0.397619</td>\n",
       "    </tr>\n",
       "    <tr>\n",
       "      <th>com.android.launcher.permission.INSTALL_SHORTCUT</th>\n",
       "      <td>0.028636</td>\n",
       "      <td>0.398844</td>\n",
       "      <td>0.370208</td>\n",
       "    </tr>\n",
       "    <tr>\n",
       "      <th>android.permission.GET_TASKS</th>\n",
       "      <td>0.068617</td>\n",
       "      <td>0.397687</td>\n",
       "      <td>0.329070</td>\n",
       "    </tr>\n",
       "    <tr>\n",
       "      <th>android.permission.SYSTEM_ALERT_WINDOW</th>\n",
       "      <td>0.058570</td>\n",
       "      <td>0.314762</td>\n",
       "      <td>0.256192</td>\n",
       "    </tr>\n",
       "    <tr>\n",
       "      <th>android.permission.ACCESS_WIFI_STATE</th>\n",
       "      <td>0.419970</td>\n",
       "      <td>0.629660</td>\n",
       "      <td>0.209690</td>\n",
       "    </tr>\n",
       "    <tr>\n",
       "      <th>com.android.vending.BILLING</th>\n",
       "      <td>0.219245</td>\n",
       "      <td>0.046395</td>\n",
       "      <td>0.172851</td>\n",
       "    </tr>\n",
       "  </tbody>\n",
       "</table>\n",
       "</div>"
      ],
      "text/plain": [
       "Result                                                   0         1  \\\n",
       "android.permission.READ_PHONE_STATE               0.229975  0.943129   \n",
       "android.permission.RECEIVE_BOOT_COMPLETED         0.205919  0.702653   \n",
       "android.permission.ACCESS_COARSE_LOCATION         0.248360  0.678435   \n",
       "android.permission.ACCESS_FINE_LOCATION           0.242072  0.648027   \n",
       "com.google.android.c2dm.permission.RECEIVE        0.411700  0.014082   \n",
       "com.android.launcher.permission.INSTALL_SHORTCUT  0.028636  0.398844   \n",
       "android.permission.GET_TASKS                      0.068617  0.397687   \n",
       "android.permission.SYSTEM_ALERT_WINDOW            0.058570  0.314762   \n",
       "android.permission.ACCESS_WIFI_STATE              0.419970  0.629660   \n",
       "com.android.vending.BILLING                       0.219245  0.046395   \n",
       "\n",
       "Result                                            difference  \n",
       "android.permission.READ_PHONE_STATE                 0.713154  \n",
       "android.permission.RECEIVE_BOOT_COMPLETED           0.496735  \n",
       "android.permission.ACCESS_COARSE_LOCATION           0.430076  \n",
       "android.permission.ACCESS_FINE_LOCATION             0.405955  \n",
       "com.google.android.c2dm.permission.RECEIVE          0.397619  \n",
       "com.android.launcher.permission.INSTALL_SHORTCUT    0.370208  \n",
       "android.permission.GET_TASKS                        0.329070  \n",
       "android.permission.SYSTEM_ALERT_WINDOW              0.256192  \n",
       "android.permission.ACCESS_WIFI_STATE                0.209690  \n",
       "com.android.vending.BILLING                         0.172851  "
      ]
     },
     "execution_count": 18,
     "metadata": {},
     "output_type": "execute_result"
    }
   ],
   "source": [
    "contrast = df.groupby(\"Result\").mean().transpose()\n",
    "contrast[\"difference\"] = abs(contrast.iloc[:,0] - contrast.iloc[:,1])\n",
    "contrast.sort_values(by=\"difference\", ascending=False).head(10)"
   ]
  },
  {
   "cell_type": "markdown",
   "id": "e0b4ac53-82bd-4b3b-abbb-2be78ce91032",
   "metadata": {},
   "source": [
    "Here I have calculated the difference between the proportions in which permissions are present in benign and malware apps and displayed the most extreme cases. We can see that there are indeed some permissions where the difference is huge, about 95% of malware really wants to know about our phone state, while only about 23% of benign apps are that curious."
   ]
  },
  {
   "cell_type": "markdown",
   "id": "b09b9541-d20b-42cd-badf-8434f699bac4",
   "metadata": {},
   "source": [
    "## The Pipelines"
   ]
  },
  {
   "cell_type": "markdown",
   "id": "608fd8e6-0ed6-4a8a-bbd5-110d987b47a2",
   "metadata": {},
   "source": [
    "Now that we have gotten a quick overview of the dataset, we can separate it into features and labels..."
   ]
  },
  {
   "cell_type": "code",
   "execution_count": null,
   "id": "2fdb6aad-cc2f-4762-a668-92a97459b21b",
   "metadata": {},
   "outputs": [
    {
     "name": "stdout",
     "output_type": "stream",
     "text": [
      "(29332, 86)\n",
      "(29332,)\n"
     ]
    }
   ],
   "source": [
    "features = df.iloc[:, :-1]\n",
    "print(features.shape)\n",
    "labels = df.iloc[:, -1]\n",
    "print(labels.shape)"
   ]
  },
  {
   "cell_type": "markdown",
   "id": "bba74063-b4c1-4492-b260-56b4bd2c92dc",
   "metadata": {},
   "source": [
    "...and into training and test data."
   ]
  },
  {
   "cell_type": "code",
   "execution_count": null,
   "id": "798ea90d-fb6a-4477-b727-4ec014e468fb",
   "metadata": {},
   "outputs": [],
   "source": [
    "X_train, X_test, y_train, y_test = train_test_split(features, labels, test_size=0.25, random_state=42)"
   ]
  },
  {
   "cell_type": "markdown",
   "id": "4fc09969-4036-47a2-b952-5b6e5467d028",
   "metadata": {},
   "source": [
    "### K Nearest Neighbors"
   ]
  },
  {
   "cell_type": "markdown",
   "id": "00edbecc-3368-4d4c-9639-dec5121c6226",
   "metadata": {},
   "source": [
    "It is time to define the first pipeline. It is possible to define just one pipeline and have GridSearchCV() try several estimators from a list, but since I would like to have a look at the best models from each category, there will be one pipeline for each classifier, starting with K Nearest Neighbors. For feature selection SelectKBest() will be used and before that, we optionally scale with StandardScaler(). Why scale binary data? Well, honestly because the feature selection performs pretty badly and I didn't want to have a half useless two-step pipeline, that's just a model! So, since one of the advantages of grid searching for the best pipeline is that one can try some non-intuitive options, scaling got a shot and actually worked, as we will see soon. "
   ]
  },
  {
   "cell_type": "code",
   "execution_count": null,
   "id": "1806b63c-a3a5-4b24-8153-50d1c087ae4c",
   "metadata": {},
   "outputs": [],
   "source": [
    "pipe_knn = Pipeline([\n",
    "(\"scaler\", StandardScaler()),\n",
    "(\"selector\", SelectKBest()),\n",
    "(\"classifier\", KNeighborsClassifier())\n",
    "])"
   ]
  },
  {
   "cell_type": "markdown",
   "id": "a375d6ed-5680-4608-907d-a8ed5b1e007b",
   "metadata": {},
   "source": [
    "Next the parameter grid for the grid search has to be defined. The options for StandardScaler() are simply to employ it or skip the scaling step. For SelectKBest() the scoring functions to be tried will be the ANOVA f-value based f_classif() and chi2(), although the latter does not play nice with negative values, which we will have after scaling. It will still give us results for the unscaled cases and using mutual information instead is just too slow. The number of features selected will be varied (including selecting all features). The classifier will run with different numbers of neighbors and with a uniform and non-uniform weighting of neighbors. Of course, more variations would make sense, but this will already take a while to run. The lists for numbers of features and neighbors have been narrowed down after test runs with more options, that will typically be the case throughout this section.  "
   ]
  },
  {
   "cell_type": "code",
   "execution_count": null,
   "id": "a6456a09-cc52-44f7-8a60-78d0d3646454",
   "metadata": {},
   "outputs": [],
   "source": [
    "parameters_knn = {\n",
    "    \"scaler\": [\"passthrough\", StandardScaler()],\n",
    "\t\"selector__score_func\": [f_classif, chi2],\n",
    "    \"selector__k\": [50, 70, \"all\"],\n",
    "\t\"classifier__n_neighbors\": [5, 7, 10, 13],\n",
    "\t\"classifier__weights\": [\"uniform\", \"distance\"]\n",
    "     }"
   ]
  },
  {
   "cell_type": "markdown",
   "id": "210fc7a5-9a6e-47c0-96ec-e88c5bcaecf5",
   "metadata": {},
   "source": [
    "Now the grid search can start, the cross valuation parameter will be set to 4, a higher value and maybe a repeated cross valuation would be more appropiate, but, again, that would make this notebook run for an extremely long time. The pipelines will be scored on accuracy."
   ]
  },
  {
   "cell_type": "code",
   "execution_count": null,
   "id": "493cd1cf-7e83-4249-86ec-913093051d74",
   "metadata": {},
   "outputs": [],
   "source": [
    "grid_knn = GridSearchCV(pipe_knn, parameters_knn, cv=4, scoring=\"accuracy\", n_jobs=-1).fit(X_train, y_train)"
   ]
  },
  {
   "cell_type": "markdown",
   "id": "d1597add-33f8-4b23-8ead-ad8d9ebdda84",
   "metadata": {},
   "source": [
    "Let's take a look at the best combination of parameters grid search has come up with."
   ]
  },
  {
   "cell_type": "code",
   "execution_count": null,
   "id": "5b4af307-d9d2-4b9d-9324-dcd69fedd562",
   "metadata": {},
   "outputs": [
    {
     "name": "stdout",
     "output_type": "stream",
     "text": [
      "0.9634529253252657 {'classifier__n_neighbors': 10, 'classifier__weights': 'distance', 'scaler': 'passthrough', 'selector__k': 'all', 'selector__score_func': <function f_classif at 0x7fcddc6389d0>}\n"
     ]
    }
   ],
   "source": [
    "print(grid_knn.best_score_, grid_knn.best_params_)"
   ]
  },
  {
   "cell_type": "markdown",
   "id": "aaa761dc-c8c9-4ce8-90ad-29a53f20ab64",
   "metadata": {},
   "source": [
    "The best pipeline has an average accuracy of 96.3%, uses 10 neighbors, no feature selection, no scaling and weights neighbors by distance.\n",
    "\n",
    "The average accuracy scores over the folds (and plenty of other information) are stored in a dictionary accessible via the grid object method cv_results_(). In order to visualize them, they will first be transformed into a data frame."
   ]
  },
  {
   "cell_type": "code",
   "execution_count": null,
   "id": "d400b0e6-7b10-4b90-ae45-55adc2e8fd55",
   "metadata": {},
   "outputs": [],
   "source": [
    "result_df_knn = pd.DataFrame.from_dict(grid_knn.cv_results_, orient=\"columns\")"
   ]
  },
  {
   "cell_type": "markdown",
   "id": "15666ab5-caf8-4b52-b0df-7947011c3e2c",
   "metadata": {},
   "source": [
    "First, two plots of mean accuracy score against number of neighbors, one for each weights setting, with the color of the lines representing amount of retained features."
   ]
  },
  {
   "cell_type": "code",
   "execution_count": null,
   "id": "c6f42567-bb9e-482a-be26-47e652dba13e",
   "metadata": {},
   "outputs": [
    {
     "data": {
      "image/png": "[encoded data removed]",
      "text/plain": [
       "<Figure size 820.875x360 with 2 Axes>"
      ]
     },
     "metadata": {
      "needs_background": "light"
     },
     "output_type": "display_data"
    }
   ],
   "source": [
    "sns.relplot(data=result_df_knn,\n",
    "            kind=\"line\",\n",
    "            x=\"param_classifier__n_neighbors\",\n",
    "            y=\"mean_test_score\",\n",
    "            hue=\"param_selector__k\",\n",
    "            col=\"param_classifier__weights\")\n",
    "plt.show()"
   ]
  },
  {
   "cell_type": "markdown",
   "id": "0b97bfe1-54bf-4e4b-a9b6-0057a35905ba",
   "metadata": {},
   "source": [
    "We can see that 10 neighbors with weights set to distance performs slightly better than 5, while in the uniform case, accuracy decays for n_neighbors over 5 (and is generally worse). Feature selection is detrimental throughout.\n",
    "\n",
    "In the next two plots, the color represents the scoring function for feature selection. The side by side plots are with and without scaling."
   ]
  },
  {
   "cell_type": "code",
   "execution_count": null,
   "id": "b5b69986-c251-4ba3-ab9a-93fa0b312b78",
   "metadata": {},
   "outputs": [
    {
     "data": {
      "image/png": "[encoded data removed]",
      "text/plain": [
       "<Figure size 956.75x360 with 2 Axes>"
      ]
     },
     "metadata": {
      "needs_background": "light"
     },
     "output_type": "display_data"
    }
   ],
   "source": [
    "sns.relplot(data=result_df_knn,\n",
    "\tkind=\"line\",\n",
    "\tx=\"param_classifier__n_neighbors\",\n",
    "\ty=\"mean_test_score\",\n",
    "\thue=\"param_selector__score_func\",\n",
    "\tcol=\"param_scaler\")\n",
    "plt.show()"
   ]
  },
  {
   "cell_type": "markdown",
   "id": "8fd12963-27c1-4950-a212-2b44f65d2fbe",
   "metadata": {},
   "source": [
    "Here two things are clearly visible. First, as expected, we are not getting results from the chi2 function for scaled data, it does slightly worse on non-scaled. But then, in the best performing case of no feature restriction it, obviously, doesn't matter how features are scored. Unless restricted features take the lead in combination with one of the following classifiers, which I doubt, we won't have to look at this comparison again. Second, scaling did very badly in this combination."
   ]
  },
  {
   "cell_type": "markdown",
   "id": "f0807de5-1062-4794-95c4-91f42e992cc7",
   "metadata": {},
   "source": [
    "### Logistic Regression"
   ]
  },
  {
   "cell_type": "markdown",
   "id": "6e98381a-bf23-48e6-ae28-1b0768bf73b9",
   "metadata": {},
   "source": [
    "For the Logistic Regression parameter grid, the settings for scaling and selection remain the same. Regarding the classifier the grid search will go through several options for solvers, penalty type and penalty strength. We will get some non-results again, since the newton-cg solver is not compatible with an l1 penalty. The specific options were again narrowed down from more extensive lists through test runs. "
   ]
  },
  {
   "cell_type": "code",
   "execution_count": null,
   "id": "73febc69-abc1-422f-b76b-02f3fffecd75",
   "metadata": {},
   "outputs": [
    {
     "name": "stdout",
     "output_type": "stream",
     "text": [
      "0.9598617930532825 {'classifier__C': 1.0, 'classifier__penalty': 'l1', 'classifier__random_state': 42, 'classifier__solver': 'liblinear', 'scaler': StandardScaler(), 'selector__k': 'all', 'selector__score_func': <function f_classif at 0x7fcddc6389d0>}\n"
     ]
    }
   ],
   "source": [
    "pipe_lr = Pipeline([\n",
    "(\"scaler\", StandardScaler()),\n",
    "(\"selector\", SelectKBest()),\n",
    "(\"classifier\", LogisticRegression())\n",
    "])\n",
    "parameters_lr = {\n",
    "\t\"scaler\": [\"passthrough\", StandardScaler()],\n",
    "    \"selector__score_func\": [f_classif, chi2],\n",
    "    \"selector__k\": [50, 70, \"all\"],\n",
    "\t\"classifier__solver\": [\"newton-cg\", \"liblinear\"],\n",
    "    \"classifier__penalty\": [\"l1\", \"l2\"],\n",
    "    \"classifier__C\": [0.1, 1.0, 10],\n",
    "    \"classifier__random_state\": [42]\n",
    "     }\n",
    "grid_lr = GridSearchCV(pipe_lr, parameters_lr, cv=4, scoring=\"accuracy\", n_jobs=-1).fit(X_train, y_train)\n",
    "print(grid_lr.best_score_, grid_lr.best_params_)"
   ]
  },
  {
   "cell_type": "markdown",
   "id": "e7c38938-1c3d-4212-89a4-a77ae06eaaa6",
   "metadata": {},
   "source": [
    "Average accuracy of the best pipeline rounds to 96%, so 0.3% down from the KNN result. Its classifier uses a penalty of type l1 with a strength of 1.0 and employs the liblinear solver. It uses scaling, but no feature selection.\n",
    "\n",
    "The following two plots depict the different penalty types, the axes are penalty strength and mean accuracy, with color representing the solver."
   ]
  },
  {
   "cell_type": "code",
   "execution_count": null,
   "id": "8ec59290-ffb9-42f4-94f0-5b6b7d3e717f",
   "metadata": {},
   "outputs": [
    {
     "data": {
      "image/png": "[encoded data removed]",
      "text/plain": [
       "<Figure size 850.125x360 with 2 Axes>"
      ]
     },
     "metadata": {
      "needs_background": "light"
     },
     "output_type": "display_data"
    }
   ],
   "source": [
    "result_df_lr = pd.DataFrame.from_dict(grid_lr.cv_results_, orient=\"columns\")\n",
    "sns.relplot(data=result_df_lr,\n",
    "            kind=\"line\",\n",
    "            x=\"param_classifier__C\",\n",
    "            y=\"mean_test_score\",\n",
    "            hue=\"param_classifier__solver\",\n",
    "            col=\"param_classifier__penalty\")\n",
    "plt.show()"
   ]
  },
  {
   "cell_type": "markdown",
   "id": "a7e6edc9-4ce6-42cd-b917-f6be031dd148",
   "metadata": {},
   "source": [
    "While the l2 penalty increases up to penalty strength 10, it does not quite reach the peak of the l1 penalty at strength 1. While I have checked some higher values and l2 falls off soon, in a more serious setting it would be worth it to run a search through some values slightly larger than 10 and also slightly larger than 1 for potential better performance on the l2 and l1 side respectively. (To reiterate, the newton-cg solver cannot employ an l1 penalty, so it yields no results on the left).\n",
    "\n",
    "The next plots show the comparison between the presence and absence of scaling."
   ]
  },
  {
   "cell_type": "code",
   "execution_count": null,
   "id": "ffb0a14a-caaa-45f0-8bfe-e131c114a702",
   "metadata": {},
   "outputs": [
    {
     "data": {
      "image/png": "[encoded data removed]",
      "text/plain": [
       "<Figure size 850.125x360 with 2 Axes>"
      ]
     },
     "metadata": {
      "needs_background": "light"
     },
     "output_type": "display_data"
    }
   ],
   "source": [
    "result_df_lr = pd.DataFrame.from_dict(grid_lr.cv_results_, orient=\"columns\")\n",
    "sns.relplot(data=result_df_lr,\n",
    "            kind=\"line\",\n",
    "            x=\"param_classifier__C\",\n",
    "            y=\"mean_test_score\",\n",
    "            hue=\"param_classifier__solver\",\n",
    "            col=\"param_scaler\"\n",
    "            )\n",
    "plt.show()"
   ]
  },
  {
   "cell_type": "markdown",
   "id": "4fcfdcf1-8c86-4fd7-a4e0-dac7b594d3a6",
   "metadata": {},
   "source": [
    "Close to no difference between the averages, but the scaling, at a first glance, seems to produce results with a higher variance, verifying that would need a closer look at the results though, the confidence interval estimate in seaborn can be misleading."
   ]
  },
  {
   "cell_type": "markdown",
   "id": "a1611712-03fe-4ad6-9d15-5323cf07bf06",
   "metadata": {},
   "source": [
    "### Random Forest"
   ]
  },
  {
   "cell_type": "code",
   "execution_count": null,
   "id": "1d632d67-156c-4644-ac4d-7aa9775328c6",
   "metadata": {},
   "outputs": [
    {
     "name": "stdout",
     "output_type": "stream",
     "text": [
      "0.969680470829407 {'classifier__max_features': 'log2', 'classifier__n_estimators': 100, 'classifier__random_state': 42, 'scaler': 'passthrough', 'selector__k': 'all', 'selector__score_func': <function f_classif at 0x7fcddc6389d0>}\n"
     ]
    }
   ],
   "source": [
    "pipe_rf = Pipeline([\n",
    "(\"scaler\", StandardScaler()),\n",
    "(\"selector\", SelectKBest()),\n",
    "(\"classifier\", RandomForestClassifier())\n",
    "])\n",
    "parameters_rf = {\n",
    "    \"scaler\": [\"passthrough\", StandardScaler()],\n",
    "\t\"selector__score_func\": [f_classif, chi2],\n",
    "    \"selector__k\": [50, 70, \"all\"],\n",
    "\t\"classifier__max_features\": ['sqrt', 'log2'],\n",
    "\t\"classifier__n_estimators\": [10, 100, 500],\n",
    "    \"classifier__random_state\": [42]\n",
    "     }\n",
    "grid_rf = GridSearchCV(pipe_rf, parameters_rf, cv=4, scoring=\"accuracy\", n_jobs=-1).fit(X_train, y_train)\n",
    "print(grid_rf.best_score_, grid_rf.best_params_)"
   ]
  },
  {
   "cell_type": "markdown",
   "id": "8f240526-d733-4356-972f-5715e879d8b4",
   "metadata": {},
   "source": [
    "The mean accuracy of the Random Forest pipeline rounds to 97% (0.7% above KNN, 1% above Logistic Regression), the best result so far. The best pipeline uses no scaling, no feature selection, 100 trees and takes only up to log2 of the full amount of features into account when splitting. It is not strictly speaking the best pipeline, it wins by random tiebreaker against two others, as can be seen in the table below."
   ]
  },
  {
   "cell_type": "code",
   "execution_count": null,
   "id": "d2317892-088d-4651-9b76-87898887167e",
   "metadata": {},
   "outputs": [
    {
     "name": "stdout",
     "output_type": "stream",
     "text": [
      "    mean_fit_time  std_fit_time  mean_score_time  std_score_time  \\\n",
      "53       0.874055      0.005226         0.104994        0.000776   \n",
      "52       0.895851      0.010865         0.105952        0.001532   \n",
      "58       0.898740      0.005952         0.108599        0.002242   \n",
      "65       4.390983      0.090708         0.514787        0.004328   \n",
      "64       4.402524      0.036504         0.517073        0.008215   \n",
      "\n",
      "   param_classifier__max_features param_classifier__n_estimators  \\\n",
      "53                           log2                            100   \n",
      "52                           log2                            100   \n",
      "58                           log2                            100   \n",
      "65                           log2                            500   \n",
      "64                           log2                            500   \n",
      "\n",
      "   param_classifier__random_state      param_scaler param_selector__k  \\\n",
      "53                             42       passthrough               all   \n",
      "52                             42       passthrough               all   \n",
      "58                             42  StandardScaler()               all   \n",
      "65                             42       passthrough               all   \n",
      "64                             42       passthrough               all   \n",
      "\n",
      "                param_selector__score_func  \\\n",
      "53       <function chi2 at 0x7fcddc638af0>   \n",
      "52  <function f_classif at 0x7fcddc6389d0>   \n",
      "58  <function f_classif at 0x7fcddc6389d0>   \n",
      "65       <function chi2 at 0x7fcddc638af0>   \n",
      "64  <function f_classif at 0x7fcddc6389d0>   \n",
      "\n",
      "                                               params  split0_test_score  \\\n",
      "53  {'classifier__max_features': 'log2', 'classifi...           0.968727   \n",
      "52  {'classifier__max_features': 'log2', 'classifi...           0.968727   \n",
      "58  {'classifier__max_features': 'log2', 'classifi...           0.968727   \n",
      "65  {'classifier__max_features': 'log2', 'classifi...           0.967273   \n",
      "64  {'classifier__max_features': 'log2', 'classifi...           0.967273   \n",
      "\n",
      "    split1_test_score  split2_test_score  split3_test_score  mean_test_score  \\\n",
      "53           0.970000           0.969636           0.970358          0.96968   \n",
      "52           0.970000           0.969636           0.970358          0.96968   \n",
      "58           0.970000           0.969636           0.970358          0.96968   \n",
      "65           0.969091           0.970000           0.969995          0.96909   \n",
      "64           0.969091           0.970000           0.969995          0.96909   \n",
      "\n",
      "    std_test_score  rank_test_score  \n",
      "53        0.000607                1  \n",
      "52        0.000607                1  \n",
      "58        0.000607                1  \n",
      "65        0.001112                4  \n",
      "64        0.001112                4  \n"
     ]
    }
   ],
   "source": [
    "best_couple = result_df_rf.sort_values(\"rank_test_score\").head()\n",
    "print(best_couple)"
   ]
  },
  {
   "cell_type": "markdown",
   "id": "a3adb3a9-a2aa-4b24-803f-a71840d7b8d5",
   "metadata": {},
   "source": [
    "Now two plots for non-scaled and scaled cases."
   ]
  },
  {
   "cell_type": "code",
   "execution_count": null,
   "id": "b7c62174-ee2f-4584-8ab7-f728a13ea9a6",
   "metadata": {},
   "outputs": [
    {
     "data": {
      "image/png": "[encoded data removed]",
      "text/plain": [
       "<Figure size 887.875x360 with 2 Axes>"
      ]
     },
     "metadata": {
      "needs_background": "light"
     },
     "output_type": "display_data"
    }
   ],
   "source": [
    "result_df_rf = pd.DataFrame.from_dict(grid_rf.cv_results_, orient=\"columns\")\n",
    "sns.relplot(data=result_df_rf,\n",
    "            kind=\"line\",\n",
    "            x=\"param_classifier__n_estimators\",\n",
    "            y=\"mean_test_score\",\n",
    "            hue=\"param_classifier__max_features\",\n",
    "            col=\"param_scaler\")\n",
    "plt.show()"
   ]
  },
  {
   "cell_type": "markdown",
   "id": "d5164718-3919-4d59-a422-770b8b96a814",
   "metadata": {},
   "source": [
    "Speaking of confidence intervals in seaborn lineplots sometimes being misleading, here we have exactly that: the scaler doesn't reach better results (although also not clearly worse ones) as we saw in the last table. Limiting to the log2 of features comes out slightly ahead of using the square root. The results suggest that it would make sense to further test values for the number of trees between 100 and 500."
   ]
  },
  {
   "cell_type": "markdown",
   "id": "ac9d5ace-209e-4032-ba6e-18f4b5acbcc8",
   "metadata": {},
   "source": [
    "## The Final Showdown"
   ]
  },
  {
   "cell_type": "markdown",
   "id": "b81abf65-1d44-4a20-8fb4-a541b340038c",
   "metadata": {},
   "source": [
    "Now we have found the best pipelines for each type of classifier, all that is left to do is to see how they do on the test data. The Random Forest had the best score so far, let's see if that will hold up.\n",
    "\n",
    "KNN did best with no data preparation methods, so no need to put it into a pipeline. Same goes for the Random Forest."
   ]
  },
  {
   "cell_type": "code",
   "execution_count": null,
   "id": "74acd4ed-6666-4b1d-8b2b-2ac323e80bf0",
   "metadata": {},
   "outputs": [
    {
     "name": "stdout",
     "output_type": "stream",
     "text": [
      "0.96618028092186\n"
     ]
    }
   ],
   "source": [
    "knn = KNeighborsClassifier(n_neighbors=10, weights=\"distance\")\n",
    "knn.fit(X_train, y_train)\n",
    "print(knn.score(X_test, y_test))"
   ]
  },
  {
   "cell_type": "code",
   "execution_count": null,
   "id": "943d9ba1-c674-4f8b-819f-406046845ba8",
   "metadata": {},
   "outputs": [
    {
     "name": "stdout",
     "output_type": "stream",
     "text": [
      "0.963180144552025\n"
     ]
    }
   ],
   "source": [
    "logreg = make_pipeline(StandardScaler(), LogisticRegression(C=1.0, penalty=\"l1\", solver=\"liblinear\", random_state=42))\n",
    "logreg.fit(X_train, y_train)\n",
    "print(logreg.score(X_test, y_test))"
   ]
  },
  {
   "cell_type": "code",
   "execution_count": null,
   "id": "84c301a7-4601-4ba0-bdf2-3e59c82b3f40",
   "metadata": {},
   "outputs": [
    {
     "name": "stdout",
     "output_type": "stream",
     "text": [
      "0.9721805536615301\n"
     ]
    }
   ],
   "source": [
    "rf = RandomForestClassifier(n_estimators=100, max_features=\"log2\", random_state=42)\n",
    "rf.fit(X_train, y_train)\n",
    "print(rf.score(X_test, y_test))"
   ]
  },
  {
   "cell_type": "markdown",
   "id": "0871b993-7462-42a6-938f-67921b0f701b",
   "metadata": {},
   "source": [
    "The Random Forest is still ahead and all setups beat their average performance in the grid search. It would, of course, make sense to compare more metrics, e.g. F1 Scores or confusion matrices to see to what extent we are getting false positives or false negatives here, but this is already really long, so I will stop here for now."
   ]
  }
 ],
 "metadata": {
  "colab": {
   "name": "Welcome to DataCamp Workspaces.ipynb",
   "provenance": []
  },
  "editor": "DataCamp Workspace",
  "kernelspec": {
   "display_name": "Python 3 (ipykernel)",
   "language": "python",
   "name": "python3"
  },
  "language_info": {
   "codemirror_mode": {
    "name": "ipython",
    "version": 3
   },
   "file_extension": ".py",
   "mimetype": "text/x-python",
   "name": "python",
   "nbconvert_exporter": "python",
   "pygments_lexer": "ipython3",
   "version": "3.8.10"
  }
 },
 "nbformat": 4,
 "nbformat_minor": 5
}
